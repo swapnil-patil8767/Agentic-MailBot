{
 "cells": [
  {
   "cell_type": "code",
   "execution_count": 100,
   "id": "9759e710",
   "metadata": {},
   "outputs": [],
   "source": [
    "from dotenv import load_dotenv\n",
    "load_dotenv()\n",
    "import os\n",
    "os.environ[\"TAVILY_API_KEY\"]=os.getenv(\"TAVILY_API_KEY\")\n"
   ]
  },
  {
   "cell_type": "code",
   "execution_count": 101,
   "id": "27610a57",
   "metadata": {},
   "outputs": [],
   "source": [
    "from langchain_community.tools.tavily_search import TavilySearchResults\n",
    "\n",
    "tavily=TavilySearchResults()"
   ]
  },
  {
   "cell_type": "code",
   "execution_count": 102,
   "id": "66ad09fb",
   "metadata": {},
   "outputs": [],
   "source": [
    "## Working With Tools\n",
    "\n",
    "from langchain_community.utilities import ArxivAPIWrapper,WikipediaAPIWrapper\n",
    "from langchain_community.tools import ArxivQueryRun,WikipediaQueryRun\n",
    "\n",
    "## Arxiv And Wikipedia tools\n",
    "arxiv_wrapper=ArxivAPIWrapper(top_k_results=1,doc_content_chars_max=300)\n",
    "arxiv_tool=ArxivQueryRun(api_wrapper=arxiv_wrapper)\n",
    "\n",
    "api_wrapper=WikipediaAPIWrapper(top_k_results=1,doc_content_chars_max=300)\n",
    "wiki_tool=WikipediaQueryRun(api_wrapper=api_wrapper)"
   ]
  },
  {
   "cell_type": "code",
   "execution_count": 116,
   "id": "b1722b31",
   "metadata": {},
   "outputs": [],
   "source": [
    "from langchain_google_genai import ChatGoogleGenerativeAI\n",
    "llm=ChatGoogleGenerativeAI(\n",
    "    model=\"gemini-1.5-flash\",\n",
    "    temperature=0.5\n",
    ")"
   ]
  },
  {
   "cell_type": "code",
   "execution_count": 104,
   "id": "28718a30",
   "metadata": {},
   "outputs": [
    {
     "data": {
      "text/plain": [
       "[{'url': 'https://collegedunia.com/college/13305-dy-patil-college-of-engineering-and-technology-dypcet-kolhapur',\n",
       "  'content': '| **Particular** | **Details** |\\n| --- | --- |\\n| Name of College | D.Y. Patil College of Engineering and Technology, Kolhapur |\\n| Established | 1984 |\\n| Location | Kolhapur, Maharashtra |\\n| Accredited By | NAAC ‘A’ (CGPA 3.08), NBA (CSE, ECE, Mechanical) |\\n| Approved By | AICTE, UGC |\\n| Affiliated To | Shivaji University, Kolhapur |\\n| Ranking | India Today 2024: 192 (B.Tech), 22 (B.Arch) |\\n| Admission Criteria | Entrance-Based |\\n| Entrance Exams | MHT-CET, JEE Main, NATA, GATE | [...] **DYPCET (D.Y. Patil College of Engineering and Technology), Kolhapur,** has been operating since **1984** as an **autonomous institution** affiliated with **Shivaji University**, Kolhapur. DY Patil Kolhapur is **NAAC** accredited with an ‘**A’ grade** and accredited by **NBA.** [...] ![](data:image/gif;base64,R0lGODlhAQABAIAAAHd3dwAAACH5BAAAAAAALAAAAAABAAEAAAICRAEAOw==)\\n![](data:image/gif;base64,R0lGODlhAQABAIAAAHd3dwAAACH5BAAAAAAALAAAAAABAAEAAAICRAEAOw==)\\n![](data:image/gif;base64,R0lGODlhAQABAIAAAHd3dwAAACH5BAAAAAAALAAAAAABAAEAAAICRAEAOw==)\\n![](data:image/gif;base64,R0lGODlhAQABAIAAAHd3dwAAACH5BAAAAAAALAAAAAABAAEAAAICRAEAOw==)\\n![](data:image/gif;base64,R0lGODlhAQABAIAAAHd3dwAAACH5BAAAAAAALAAAAAABAAEAAAICRAEAOw==)'},\n",
       " {'url': 'https://en.wikipedia.org/wiki/D._Y._Patil_College_of_Engineering_and_Technology',\n",
       "  'content': '**D.Y. Patil College of Engineering and Technology** is a private college located in Kasaba Bavda, [Kolhapur](/wiki/Kolhapur \"Kolhapur\"), [Maharashtra](/wiki/Maharashtra \"Maharashtra\"), [India](/wiki/India \"India\"). It is affiliated with [Shivaji University](/wiki/Shivaji_University \"Shivaji University\").[[3]](#cite_note-3)\\n\\n## History [...] | Location | [Kolhapur](/wiki/Kolhapur \"Kolhapur\") , [Maharashtra](/wiki/Maharashtra \"Maharashtra\") , [India](/wiki/India \"India\")  [16°43′55″N 74°14′26″E\\ufeff / \\ufeff16.732027°N 74.240424°E\\ufeff / 16.732027; 74.240424](https://geohack.toolforge.org/geohack.php?pagename=D._Y._Patil_College_of_Engineering_and_Technology&params=16.732027_N_74.240424_E_type:edu) |\\n| Affiliations | [Shivaji University](/wiki/Shivaji_University \"Shivaji University\") |'},\n",
       " {'url': 'https://www.shiksha.com/college/d-y-patil-college-of-engineering-and-technology-kolhapur-19792',\n",
       "  'content': 'DY Patil College of Engineering Kolhapur is a self-financing autonomous college which was established in 1984. The college is approved by AICTE and is'},\n",
       " {'url': 'https://coek.dypgroup.edu.in/',\n",
       "  'content': 'D. Y. Patil College of Engineering & Technology, Kasaba Bawada, Kolhapur is a self-financing Autonomous Institute established in the year 1984 under the'},\n",
       " {'url': 'https://coek.dypgroup.edu.in/contact/',\n",
       "  'content': 'D Y Patil Group. D. Y. Patil College of Engineering and Technology, Kasaba Bawada, Kolhapur; Email: info.dypcet@dypgroup.edu.in; Tel: 0231-2601431/32/33; Send'}]"
      ]
     },
     "execution_count": 104,
     "metadata": {},
     "output_type": "execute_result"
    }
   ],
   "source": [
    "tavily.invoke(\"DY Patil college of Engineering,kolhapur \")"
   ]
  },
  {
   "cell_type": "code",
   "execution_count": 105,
   "id": "d455709b",
   "metadata": {},
   "outputs": [],
   "source": [
    "tools=[tavily,arxiv_tool,wiki_tool]\n"
   ]
  },
  {
   "cell_type": "code",
   "execution_count": 106,
   "id": "b3899dc7",
   "metadata": {},
   "outputs": [],
   "source": [
    "llm_with_tool=llm.bind_tools(tools=tools)"
   ]
  },
  {
   "cell_type": "code",
   "execution_count": 107,
   "id": "9f771edb",
   "metadata": {},
   "outputs": [
    {
     "data": {
      "text/plain": [
       "AIMessage(content='', additional_kwargs={'function_call': {'name': 'wikipedia', 'arguments': '{\"query\": \"Sharukh Khan\"}'}}, response_metadata={'prompt_feedback': {'block_reason': 0, 'safety_ratings': []}, 'finish_reason': 'STOP', 'safety_ratings': []}, id='run-ad9e07dd-d08a-44a7-b4d1-9cdc4ccbb030-0', tool_calls=[{'name': 'wikipedia', 'args': {'query': 'Sharukh Khan'}, 'id': 'b70fd92c-a4af-4cbb-a1a6-c9ef13412d65', 'type': 'tool_call'}], usage_metadata={'input_tokens': 162, 'output_tokens': 5, 'total_tokens': 167, 'input_token_details': {'cache_read': 0}})"
      ]
     },
     "execution_count": 107,
     "metadata": {},
     "output_type": "execute_result"
    }
   ],
   "source": [
    "llm_with_tool.invoke(\"who is Sharukh Khan\")"
   ]
  },
  {
   "cell_type": "code",
   "execution_count": 108,
   "id": "6554439c",
   "metadata": {},
   "outputs": [],
   "source": [
    "from typing import TypedDict,Annotated\n",
    "from langchain_core.messages import AnyMessage\n",
    "from langgraph.graph import StateGraph,START,END,add_messages\n",
    "from langgraph.prebuilt import ToolNode\n",
    "from langgraph.prebuilt import tools_condition"
   ]
  },
  {
   "cell_type": "code",
   "execution_count": 109,
   "id": "92fa3ee7",
   "metadata": {},
   "outputs": [],
   "source": [
    "class state(TypedDict):\n",
    "    messages:Annotated[list[AnyMessage],add_messages]\n"
   ]
  },
  {
   "cell_type": "code",
   "execution_count": 110,
   "id": "9fb4e7e0",
   "metadata": {},
   "outputs": [],
   "source": [
    "def tool_calling_llm(state:state):\n",
    "    return {\"messages\":[llm_with_tool.invoke(state[\"messages\"])]}"
   ]
  },
  {
   "cell_type": "code",
   "execution_count": 111,
   "id": "07a46714",
   "metadata": {},
   "outputs": [],
   "source": [
    "builder=StateGraph(state)\n",
    "\n",
    "builder.add_node(\"tool_calling_llm\",tool_calling_llm)\n",
    "builder.add_node(\"tools\",ToolNode(tools))\n",
    "\n",
    "builder.add_edge(START,\"tool_calling_llm\")\n",
    "builder.add_conditional_edges(\"tool_calling_llm\",tools_condition)\n",
    "\n",
    "builder.add_edge(\"tools\",END)\n",
    "graph=builder.compile()"
   ]
  },
  {
   "cell_type": "code",
   "execution_count": 112,
   "id": "038dca98",
   "metadata": {},
   "outputs": [
    {
     "data": {
      "image/png": "[encoded data removed]",
      "text/plain": [
       "<IPython.core.display.Image object>"
      ]
     },
     "metadata": {},
     "output_type": "display_data"
    }
   ],
   "source": [
    "from IPython.display import Image, display\n",
    "\n",
    "\n",
    "# Display the graph visualization\n",
    "display(Image(graph.get_graph().draw_mermaid_png()))"
   ]
  },
  {
   "cell_type": "code",
   "execution_count": 115,
   "id": "c0943dd6",
   "metadata": {},
   "outputs": [
    {
     "name": "stdout",
     "output_type": "stream",
     "text": [
      "================================\u001b[1m Human Message \u001b[0m=================================\n",
      "\n",
      "one latest news for iit in short\n",
      "==================================\u001b[1m Ai Message \u001b[0m==================================\n",
      "Tool Calls:\n",
      "  tavily_search_results_json (dc9f17a7-dce1-4729-be48-739c0dc5a597)\n",
      " Call ID: dc9f17a7-dce1-4729-be48-739c0dc5a597\n",
      "  Args:\n",
      "    query: latest news for IIT\n",
      "=================================\u001b[1m Tool Message \u001b[0m=================================\n",
      "Name: tavily_search_results_json\n",
      "\n",
      "[{\"url\": \"https://www.thehindu.com/tag/iit/\", \"content\": \"### [Cabinet allocate more funds to five IITs, new scheme for ITIs](https://www.thehindu.com/news/national/cabinet-allocate-more-funds-to-five-iits-new-scheme-for-itis/article69549989.ece)\\n\\n### [Centre asks coaching centres to stop misleading students and adhere to guidelines](https://www.thehindu.com/news/national/consumer-protection-authority-warns-coaching-centres-against-misleading-ads-ahead-of-iit-jee-results/article69460026.ece) [...] ### [10th international convention of SPIC MACAY inaugurated at IIT Hyderabad](https://www.thehindu.com/news/national/telangana/10th-international-convention-of-spic-macay-inaugurated-at-iit-hyderabad/article69622588.ece)\\n\\n### [Union Minister Kishan Reddy urged to ensure an increase in IIT seat allocation to Telangana](https://www.thehindu.com/news/national/telangana/union-minister-kishan-reddy-urged-to-ensure-an-increase-in-iit-seat-allocation-to-telangana/article69561775.ece) [...] ### [University of San Diego plans to make a mark in India: MOU with IIT Gandhinagar for tech courses](https://www.thehindu.com/education/university-of-san-diego-plans-to-make-a-mark-in-india-mou-with-iit-gandhinagar-for-tech-courses/article69380450.ece)\\n\\n### [IIT professor booked for researcher's death near archaeological site in Gujarat](https://www.thehindu.com/news/national/gujarat/iit-professor-booked-for-researchers-death-near-archaeological-site-in-gujarat/article69380774.ece)\"}, {\"url\": \"https://economictimes.indiatimes.com/topic/iit\", \"content\": \"Delhi Chief Minister Rekha Gupta unveiled the Air Pollution Mitigation Plan 2025, restricting entry to BS-VI, CNG, and electric commercial vehicles from November 1, 2025. The plan includes artificial rain via cloud seeding, in collaboration with IIT Kanpur. Mist sprayers will target pollution hotspots, and anti-smog guns are mandated for large commercial buildings. [...] JEE Advanced 2025 result Declared: IIT Kanpur has declared the JEE Advanced 2025 results, and students can access the result on jeeadv.ac.in. The exam, held on May 18 in two shifts, saw a challenging maths section. Students can view their scores by entering their roll number and date of birth on the website. [...] IIT JEE Advanced 2025: IIT Kanpur has announced the JEE Advanced 2025 results and final answer key on June 2nd. Candidates can access their scorecards on jeeadv.ac.in using their credentials. Those who qualified can participate in JoSAA counselling for IIT admissions. The qualifying cutoff has decreased compared to 2024 but remains higher than pre-2023 levels.\"}, {\"url\": \"https://www.iit.edu/news\", \"content\": \"![Mohammad Shahidehpour](/sites/default/files/styles/width_350/public/2023-07/mohammad_shahidehpour_1280x850.jpg?itok=7LjLOHDy)\\n\\n## [Fencing in Microgrid Cyber Attacks](https://www.iit.edu/news/fencing-microgrid-cyber-attacks)\\n\\nIllinois Tech is establishing the Midwest Center for Microgrid Cybersecurity (2MC) through new funding from the United States Department of Energy. The project aims to develop state-of-the-art...\\n\\n## Tags: [...] ## [Leaders Converge at Illinois Tech’s Institute of Design for Shapeshift Summit: Responsible AI](https://www.iit.edu/news/leaders-converge-illinois-techs-institute-design-shapeshift-summit-responsible-ai)\\n\\nCHICAGO—June 2, 2025—The Institute of Design (ID) at Illinois Institute of Technology (Illinois Tech) welcomed leading voices in artificial intelligence, design, technology, and business to its...\\n\\n## Tags: [...] ## [Manny Maceda, Global Business Leader and Culture Builder, to Receive Honorary Doctor of Management from Illinois Tech](https://www.iit.edu/news/manny-maceda-global-business-leader-and-culture-builder-receive-honorary-doctor-management-illinois)\\n\\nCHICAGO—May 17, 2025—Illinois Institute of Technology (Illinois Tech) will award Manny Maceda (CHE ’84), a visionary business executive and global management consultant, an Honorary Doctor of...\\n\\n## Tags:\"}, {\"url\": \"https://indianexpress.com/about/iit/\", \"content\": \"### [IIT-Delhi introduces major changes across UG, PG, PhD programmes from 2025-26: Here’s what is new](https://indianexpress.com/article/education/iit-delhi-introduces-changes-curriculum-ug-pg-phd-programmes-2025-26-academic-flexibility-10033406/ \\\"IIT-Delhi introduces major changes across UG, PG, PhD programmes from 2025-26: Here’s what is new\\\")\\n\\nJune 01, 2025 12:21 pm\"}, {\"url\": \"https://www.iitsystem.ac.in/latest-news\", \"content\": \"Latest News and Events · IIT Kharagpur. News: -- http://www.iitkgp.ac.in/news · IIT Bombay. News: -- https://www.iitb.ac.in/ · IIT Madras. News: -- https://www.\"}]\n"
     ]
    }
   ],
   "source": [
    "message = graph.invoke({\"messages\": \"one latest news for iit in short\"})\n",
    "\n",
    "for m in message[\"messages\"]:\n",
    "    m.pretty_print()"
   ]
  },
  {
   "cell_type": "code",
   "execution_count": 117,
   "id": "4fe899b0",
   "metadata": {},
   "outputs": [
    {
     "data": {
      "image/png": "[encoded data removed]",
      "text/plain": [
       "<IPython.core.display.Image object>"
      ]
     },
     "metadata": {},
     "output_type": "display_data"
    }
   ],
   "source": [
    "from langgraph.graph import StateGraph,START,END,add_messages\n",
    "from typing import TypedDict,Annotated,Literal\n",
    "from pydantic import BaseModel,Field\n",
    "from langchain_google_genai import ChatGoogleGenerativeAI\n",
    "from dotenv import load_dotenv\n",
    "load_dotenv()\n",
    "\n",
    "from langchain_google_genai import ChatGoogleGenerativeAI\n",
    "llm=ChatGoogleGenerativeAI(\n",
    "    model=\"gemini-1.5-flash\",\n",
    "    temperature=0.5\n",
    ")\n",
    "\n",
    "class messages_classifer(BaseModel):\n",
    "    messages_type:Literal[\"Logical\",\"emotional\"]=Field(description=\"Classify if the message requires an emotional (therapist) or logical response.\")\n",
    "    \n",
    "\n",
    "class state(TypedDict):\n",
    "    messages: Annotated[list, add_messages]\n",
    "    messages_type:str |None\n",
    "    next:str |None\n",
    "\n",
    "def classifer(state:state):\n",
    "    model=llm.with_structured_output(messages_classifer)\n",
    "    last_msg=state[\"messages\"][-1]\n",
    "    responce=model.invoke([\n",
    "        {\"role\":\"user\",\"content\":last_msg.content},\n",
    "        {\"role\":\"system\",\"content\":\"\"\"Classify the user message as either:\n",
    "            - 'emotional': if it asks for emotional support, therapy, deals with feelings, or personal problems\n",
    "            - 'logical': if it asks for facts, information, logical analysis, or practical solutions\n",
    "            \"\"\"\n",
    "        }\n",
    "    ]\n",
    "\n",
    "    )\n",
    "    print(responce.messages_type)\n",
    "    return {\"messages_type\":responce.messages_type}\n",
    "\n",
    "\n",
    "def router(state:state):\n",
    "    message_type=state.get(\"messages_type\",\"Logical\")\n",
    "    if message_type==\"emotional\":\n",
    "        return {\"next\":\"emotional_response\"}\n",
    "    else:\n",
    "        return {\"next\":\"logical_response\"}\n",
    "\n",
    "\n",
    "def Logical_responce(state:state):\n",
    "    last_message=state[\"messages\"][-1]\n",
    "    responce=llm.invoke([\n",
    "        {\"role\":\"system\",\"content\":\"\"\"\n",
    "            You are a compassionate therapist. Focus on the emotional aspects of the user's message.\n",
    "                        Show empathy, validate their feelings, and help them process their emotions.\n",
    "                        Ask thoughtful questions to help them explore their feelings more deeply.\n",
    "                        Avoid giving logical solutions unless explicitly asked.\n",
    "        \"\"\"},\n",
    "        {\"role\":\"user\",\"content\":last_message.content}\n",
    "    ])\n",
    "    return {\"messages\":[{\"role\":\"Assistant\",\"content\":responce.content}]}\n",
    "\n",
    "\n",
    "def therapist_agent(state: state):\n",
    "    last_message = state[\"messages\"][-1]\n",
    "\n",
    "    messages = [\n",
    "        {\"role\": \"system\",\n",
    "         \"content\": \"\"\"You are a compassionate therapist. Focus on the emotional aspects of the user's message.\n",
    "                        Show empathy, validate their feelings, and help them process their emotions.\n",
    "                        Ask thoughtful questions to help them explore their feelings more deeply.\n",
    "                        Avoid giving logical solutions unless explicitly asked.\"\"\"\n",
    "         },\n",
    "        {\n",
    "            \"role\": \"user\",\n",
    "            \"content\": last_message.content\n",
    "        }\n",
    "    ]\n",
    "    reply = llm.invoke(messages)\n",
    "    return {\"messages\": [{\"role\": \"assistant\", \"content\": reply.content}]}\n",
    "\n",
    "\n",
    "\n",
    "graph=StateGraph(state)\n",
    "\n",
    "graph.add_node(\"classifer\",classifer)\n",
    "graph.add_node(\"router\",router)\n",
    "graph.add_node(\"logical_response\",Logical_responce)\n",
    "graph.add_node(\"emotional_response\",therapist_agent)\n",
    "graph.add_edge(START,\"classifer\")\n",
    "graph.add_edge(\"classifer\",\"router\")\n",
    "graph.add_conditional_edges(\"router\",\n",
    "                            lambda state:state.get(\"next\"),\n",
    "                            {\"emotional_response\":\"emotional_response\",\n",
    "                             \"logical_response\":\"logical_response\"}\n",
    "                            )\n",
    "graph.add_edge(\"logical_response\",END)\n",
    "graph.add_edge(\"emotional_response\",END)\n",
    "\n",
    "graph_compiled=graph.compile()\n",
    "\n",
    "\n",
    "from IPython.display import Image, display\n",
    "\n",
    "\n",
    "# Display the graph visualization\n",
    "display(Image(graph_compiled.get_graph().draw_mermaid_png()))"
   ]
  }
 ],
 "metadata": {
  "kernelspec": {
   "display_name": "Python 3",
   "language": "python",
   "name": "python3"
  },
  "language_info": {
   "codemirror_mode": {
    "name": "ipython",
    "version": 3
   },
   "file_extension": ".py",
   "mimetype": "text/x-python",
   "name": "python",
   "nbconvert_exporter": "python",
   "pygments_lexer": "ipython3",
   "version": "3.11.3"
  }
 },
 "nbformat": 4,
 "nbformat_minor": 5
}
